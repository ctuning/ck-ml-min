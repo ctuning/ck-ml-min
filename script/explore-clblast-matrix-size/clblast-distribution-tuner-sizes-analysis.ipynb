{
 "cells": [
  {
   "cell_type": "markdown",
   "metadata": {
    "deletable": true,
    "editable": true
   },
   "source": [
    "# [PUBLIC] Analysis of CLBlast tuning"
   ]
  },
  {
   "cell_type": "markdown",
   "metadata": {
    "deletable": true,
    "editable": true
   },
   "source": [
    "<a id=\"overview\"></a>\n",
    "## Overview"
   ]
  },
  {
   "cell_type": "markdown",
   "metadata": {
    "deletable": true,
    "editable": true
   },
   "source": [
    "This Jupyter Notebook analyses the performance that CLBlast achieves across a range of routines, sizes and configurations. \n",
    "\n",
    "Run first clblast-tuning-benchmarking.py"
   ]
  },
  {
   "cell_type": "markdown",
   "metadata": {
    "deletable": true,
    "editable": true
   },
   "source": [
    "<a id=\"data\"></a>\n",
    "## Get the experimental data from DropBox"
   ]
  },
  {
   "cell_type": "markdown",
   "metadata": {
    "deletable": true,
    "editable": true
   },
   "source": [
    "**NB:** Please ignore this section if you are not interested in re-running or modifying this notebook. "
   ]
  },
  {
   "cell_type": "markdown",
   "metadata": {
    "deletable": true,
    "editable": true
   },
   "source": [
    "The experimental data was collected on the experimental platform and archived as follows:\n",
    "```\n",
    "$ cd `ck find ck-math:script:<...>`\n",
    "$ python <...>.py\n",
    "$ ck zip local:experiment:* --archive_name=<...>.zip\n",
    "```\n",
    "\n",
    "It can be downloaded and extracted as follows:\n",
    "```\n",
    "$ wget <...>.zip\n",
    "$ ck add repo:<....> --zip=<....>.zip --quiet\n",
    "```"
   ]
  },
  {
   "cell_type": "markdown",
   "metadata": {
    "deletable": true,
    "editable": true
   },
   "source": [
    "<a id=\"code\"></a>\n",
    "## Data wrangling code"
   ]
  },
  {
   "cell_type": "markdown",
   "metadata": {
    "deletable": true,
    "editable": true
   },
   "source": [
    "**NB:** Please ignore this section if you are not interested in re-running or modifying this notebook."
   ]
  },
  {
   "cell_type": "markdown",
   "metadata": {
    "deletable": true,
    "editable": true
   },
   "source": [
    "### Includes"
   ]
  },
  {
   "cell_type": "markdown",
   "metadata": {
    "deletable": true,
    "editable": true
   },
   "source": [
    "#### Standard"
   ]
  },
  {
   "cell_type": "code",
   "execution_count": 1,
   "metadata": {
    "collapsed": true,
    "deletable": true,
    "editable": true
   },
   "outputs": [],
   "source": [
    "import os\n",
    "import sys\n",
    "import json\n",
    "import re"
   ]
  },
  {
   "cell_type": "markdown",
   "metadata": {
    "deletable": true,
    "editable": true
   },
   "source": [
    "#### Scientific"
   ]
  },
  {
   "cell_type": "markdown",
   "metadata": {
    "deletable": true,
    "editable": true
   },
   "source": [
    "If some of the scientific packages are missing, please install them using:\n",
    "```\n",
    "# pip install jupyter pandas numpy matplotlib\n",
    "```"
   ]
  },
  {
   "cell_type": "code",
   "execution_count": 2,
   "metadata": {
    "collapsed": false,
    "deletable": true,
    "editable": true
   },
   "outputs": [],
   "source": [
    "import IPython as ip\n",
    "import pandas as pd\n",
    "import numpy as np\n",
    "import seaborn as sns\n",
    "import matplotlib as mp"
   ]
  },
  {
   "cell_type": "code",
   "execution_count": 3,
   "metadata": {
    "collapsed": false,
    "deletable": true,
    "editable": true
   },
   "outputs": [
    {
     "name": "stdout",
     "output_type": "stream",
     "text": [
      "IPython version: 5.3.0\n",
      "Pandas version: 0.19.2\n",
      "NumPy version: 1.12.0\n",
      "Seaborn version: 0.7.1\n",
      "Matplotlib version: 2.0.0\n"
     ]
    }
   ],
   "source": [
    "print ('IPython version: %s' % ip.__version__)\n",
    "print ('Pandas version: %s' % pd.__version__)\n",
    "print ('NumPy version: %s' % np.__version__)\n",
    "print ('Seaborn version: %s' % sns.__version__) # apt install python-tk\n",
    "print ('Matplotlib version: %s' % mp.__version__)"
   ]
  },
  {
   "cell_type": "code",
   "execution_count": 4,
   "metadata": {
    "collapsed": false,
    "deletable": true,
    "editable": true
   },
   "outputs": [],
   "source": [
    "import matplotlib.pyplot as plt\n",
    "from matplotlib import cm\n",
    "%matplotlib inline"
   ]
  },
  {
   "cell_type": "code",
   "execution_count": 5,
   "metadata": {
    "collapsed": true,
    "deletable": true,
    "editable": true
   },
   "outputs": [],
   "source": [
    "from IPython.display import Image\n",
    "from IPython.core.display import HTML"
   ]
  },
  {
   "cell_type": "markdown",
   "metadata": {
    "deletable": true,
    "editable": true
   },
   "source": [
    "#### Collective Knowledge"
   ]
  },
  {
   "cell_type": "markdown",
   "metadata": {
    "deletable": true,
    "editable": true
   },
   "source": [
    "If CK is not installed, please install it using:\n",
    "```\n",
    "# pip install ck\n",
    "```"
   ]
  },
  {
   "cell_type": "code",
   "execution_count": 6,
   "metadata": {
    "collapsed": false,
    "deletable": true,
    "editable": true
   },
   "outputs": [
    {
     "name": "stdout",
     "output_type": "stream",
     "text": [
      "CK version: 1.8.7\n"
     ]
    }
   ],
   "source": [
    "import ck.kernel as ck\n",
    "print ('CK version: %s' % ck.__version__)"
   ]
  },
  {
   "cell_type": "markdown",
   "metadata": {
    "deletable": true,
    "editable": true
   },
   "source": [
    "### Define helper functions"
   ]
  },
  {
   "cell_type": "code",
   "execution_count": 7,
   "metadata": {
    "collapsed": false,
    "deletable": true,
    "editable": true
   },
   "outputs": [],
   "source": [
    "# Return the number of floating-point operations for C = alpha * A * B + beta * C,\n",
    "# where A is a MxK matrix and B is a KxN matrix.\n",
    "def xgemm_flops(alpha, beta, M, K, N):\n",
    "    flops_AB = 2*M*N*K if alpha!=0 else 0\n",
    "    flops_C = 2*M*N if beta!=0 else 0\n",
    "    flops = flops_AB + flops_C\n",
    "    return flops"
   ]
  },
  {
   "cell_type": "code",
   "execution_count": 8,
   "metadata": {
    "collapsed": true,
    "deletable": true,
    "editable": true
   },
   "outputs": [],
   "source": [
    "# Return GFLOPS (Giga floating-point operations per second) for a known kernel and -1 otherwise.\n",
    "def GFLOPS(kernel, run_characteristics, time_ms):\n",
    "    if kernel.lower().find('xgemm') != -1:\n",
    "        time_ms = np.float64(time_ms)\n",
    "        alpha = np.float64(run_characteristics['arg_alpha'])\n",
    "        beta  = np.float64(run_characteristics['arg_beta'])\n",
    "        M = np.int64(run_characteristics['arg_m'])\n",
    "        K = np.int64(run_characteristics['arg_k'])\n",
    "        N = np.int64(run_characteristics['arg_n'])\n",
    "        return (1e-9 * xgemm_flops(alpha, beta, M, K, N)) / (1e-3 * time_ms)\n",
    "    else:\n",
    "        return (-1.0)"
   ]
  },
  {
   "cell_type": "code",
   "execution_count": 9,
   "metadata": {
    "collapsed": false,
    "deletable": true,
    "editable": true
   },
   "outputs": [],
   "source": [
    "def args_str(kernel, run):\n",
    "    args = ''\n",
    "    if kernel.lower().find('xgemm') != -1:\n",
    "        args = 'alpha=%s, beta=%s, M=%s, K=%s, N=%s' % \\\n",
    "            (run['arg_alpha'], run['arg_beta'], run['arg_m'], run['arg_k'], run['arg_n'])\n",
    "    return args"
   ]
  },
  {
   "cell_type": "markdown",
   "metadata": {
    "deletable": true,
    "editable": true
   },
   "source": [
    "### Access the experimental data"
   ]
  },
  {
   "cell_type": "code",
   "execution_count": 10,
   "metadata": {
    "collapsed": false,
    "deletable": true,
    "editable": true
   },
   "outputs": [],
   "source": [
    "def get_experimental_results(repo_uoa='local', tags='explore-clblast-matrix-size'):\n",
    "    module_uoa = 'experiment'\n",
    "    r = ck.access({'action':'search', 'repo_uoa':repo_uoa, 'module_uoa':module_uoa, 'tags':tags})\n",
    "    if r['return']>0:\n",
    "        print (\"Error: %s\" % r['error'])\n",
    "        exit(1)\n",
    "    experiments = r['lst']\n",
    "    \n",
    "    dfs = []\n",
    "    for experiment in experiments:\n",
    "        print experiment\n",
    "        data_uoa = experiment['data_uoa']\n",
    "        r = ck.access({'action':'list_points', 'repo_uoa':repo_uoa, 'module_uoa':module_uoa, 'data_uoa':data_uoa})\n",
    "        if r['return']>0:\n",
    "            print (\"Error: %s\" % r['error'])\n",
    "            exit(1)\n",
    "\n",
    "        for point in r['points']:\n",
    "            with open(os.path.join(r['path'], 'ckp-%s.0001.json' % point)) as point_file:\n",
    "                point_data_raw = json.load(point_file)\n",
    "                characteristics_list = point_data_raw['characteristics_list']\n",
    "                num_repetitions = len(characteristics_list)\n",
    "                # Obtain column data.\n",
    "                data = [\n",
    "                    {\n",
    "                        'repetition_id': repetition_id,\n",
    "                        'strategy'  : tuner_output['strategy'],\n",
    "                        'config_id': config_id,\n",
    "                        'config' : config['parameters'],\n",
    "                        'kernel' : config['kernel'],\n",
    "                        'args_id' : args_str(config['kernel'], characteristics['run']),\n",
    "                        'ms' : np.float64(config['time']),\n",
    "                        'GFLOPS' : GFLOPS(config['kernel'], characteristics['run'], config['time'])\n",
    "                    }\n",
    "                    for (repetition_id, characteristics) in zip(range(num_repetitions), characteristics_list) \n",
    "                    for tuner_output in characteristics['run']['data']\n",
    "                    for (config_id, config) in zip(range(len(tuner_output['result'])), tuner_output['result'])\n",
    "                ]\n",
    "            # Construct a DataFrame.\n",
    "            df = pd.DataFrame(data)\n",
    "            # Set columns and index names.\n",
    "            df.columns.name = 'characteristics'\n",
    "            df.index.name = 'index'\n",
    "            df = df.set_index([ 'kernel', 'strategy', 'args_id', 'config_id', 'repetition_id' ])\n",
    "            # Append to the list of similarly constructed DataFrames.\n",
    "            dfs.append(df)\n",
    "    # Concatenate all constructed DataFrames (i.e. stack on top of each other).\n",
    "    result = pd.concat(dfs)\n",
    "    return result.sortlevel(result.index.names)"
   ]
  },
  {
   "cell_type": "code",
   "execution_count": 11,
   "metadata": {
    "collapsed": false,
    "deletable": true,
    "editable": true
   },
   "outputs": [
    {
     "name": "stdout",
     "output_type": "stream",
     "text": [
      "{'ignore_case': '', 'module_uoa': 'experiment', 'data_uid': 'bf7cb47ccb9aabfa', 'search_dict': {'tags': ['explore-clblast-matrix-size', 'xgemm-fp32']}, 'ignore_update': '', 'search_string': '', 'data_uoa': 'explore-matrix-size-xgemm-fp32', 'module_uid': 'bc0409fb61f0aa82', 'repo_uoa': 'local', 'path': '/home/flavio/CK_REPOS/local/experiment/explore-matrix-size-xgemm-fp32', 'repo_uid': '9a3280b14a4285c9', 'search_by_name': '', 'out': ''}\n"
     ]
    }
   ],
   "source": [
    "df = get_experimental_results(tags='explore-clblast-matrix-size,xgemm-fp32')\n",
    "pd.options.display.max_columns = len(df.columns)\n",
    "pd.options.display.max_rows = len(df.index)"
   ]
  },
  {
   "cell_type": "code",
   "execution_count": 12,
   "metadata": {
    "collapsed": false,
    "deletable": true,
    "editable": true
   },
   "outputs": [
    {
     "data": {
      "text/plain": [
       "u'Xgemm'"
      ]
     },
     "execution_count": 12,
     "metadata": {},
     "output_type": "execute_result"
    }
   ],
   "source": [
    "kernel0 = df.iloc[0].name[0]\n",
    "kernel0"
   ]
  },
  {
   "cell_type": "code",
   "execution_count": 42,
   "metadata": {
    "collapsed": false,
    "deletable": true,
    "editable": true
   },
   "outputs": [],
   "source": [
    "# NB: Unlike mean(), mean() retains the 'config' column.\n",
    "df_kernel0 = df.groupby(level=df.index.names[:-1]).min().loc[kernel0]"
   ]
  },
  {
   "cell_type": "code",
   "execution_count": 14,
   "metadata": {
    "collapsed": false,
    "deletable": true,
    "editable": true
   },
   "outputs": [
    {
     "data": {
      "text/plain": [
       "strategy    args_id                                    \n",
       "exhaustive  alpha=2.00, beta=2.00, M=128, K=1024, N=128     6.868548\n",
       "            alpha=2.00, beta=2.00, M=256, K=256, N=512     11.204226\n",
       "            alpha=2.00, beta=2.00, M=512, K=128, N=256     10.528199\n",
       "random      alpha=2.00, beta=2.00, M=128, K=1024, N=128     0.526000\n",
       "            alpha=2.00, beta=2.00, M=256, K=256, N=512      1.798959\n",
       "            alpha=2.00, beta=2.00, M=512, K=128, N=256      1.746183\n",
       "Name: GFLOPS, dtype: float64"
      ]
     },
     "execution_count": 14,
     "metadata": {},
     "output_type": "execute_result"
    }
   ],
   "source": [
    "df_kernel0.groupby(level=df_kernel0.index.names[:-1])['GFLOPS'].min()"
   ]
  },
  {
   "cell_type": "code",
   "execution_count": 47,
   "metadata": {
    "collapsed": false,
    "deletable": true,
    "editable": true
   },
   "outputs": [
    {
     "data": {
      "text/plain": [
       "strategy    args_id                                    \n",
       "exhaustive  alpha=2.00, beta=2.00, M=128, K=1024, N=128    150.615247\n",
       "            alpha=2.00, beta=2.00, M=256, K=256, N=512     156.676763\n",
       "            alpha=2.00, beta=2.00, M=512, K=128, N=256     144.515282\n",
       "random      alpha=2.00, beta=2.00, M=128, K=1024, N=128     47.372638\n",
       "            alpha=2.00, beta=2.00, M=256, K=256, N=512     113.802378\n",
       "            alpha=2.00, beta=2.00, M=512, K=128, N=256      96.618789\n",
       "Name: GFLOPS, dtype: float64"
      ]
     },
     "execution_count": 47,
     "metadata": {},
     "output_type": "execute_result"
    }
   ],
   "source": [
    "df_kernel0.groupby(level=df_kernel0.index.names[:-1])['GFLOPS'].max()\n"
   ]
  },
  {
   "cell_type": "code",
   "execution_count": 16,
   "metadata": {
    "collapsed": false,
    "deletable": true,
    "editable": true
   },
   "outputs": [
    {
     "data": {
      "text/plain": [
       "156.67676279069769"
      ]
     },
     "execution_count": 16,
     "metadata": {},
     "output_type": "execute_result"
    }
   ],
   "source": [
    "max_GFLOPS = df_kernel0.loc[df_kernel0['GFLOPS'].argmax()]['GFLOPS']\n",
    "max_GFLOPS"
   ]
  },
  {
   "cell_type": "code",
   "execution_count": 29,
   "metadata": {
    "collapsed": false,
    "deletable": true,
    "editable": true
   },
   "outputs": [
    {
     "data": {
      "text/plain": [
       "{u'KWG': 32,\n",
       " u'KWI': 2,\n",
       " u'MDIMA': 8,\n",
       " u'MDIMC': 8,\n",
       " u'MWG': 32,\n",
       " u'NDIMB': 32,\n",
       " u'NDIMC': 32,\n",
       " u'NWG': 64,\n",
       " u'PRECISION': 32,\n",
       " u'SA': 1,\n",
       " u'SB': 1,\n",
       " u'STRM': 0,\n",
       " u'STRN': 0,\n",
       " u'VWM': 4,\n",
       " u'VWN': 2}"
      ]
     },
     "execution_count": 29,
     "metadata": {},
     "output_type": "execute_result"
    }
   ],
   "source": [
    "max_GLOPS_config = df_kernel0.loc[df_kernel0['GFLOPS'].argmax()]['config']\n",
    "max_GLOPS_config"
   ]
  },
  {
   "cell_type": "code",
   "execution_count": 84,
   "metadata": {
    "collapsed": false
   },
   "outputs": [
    {
     "name": "stdout",
     "output_type": "stream",
     "text": [
      "{u'MDIMC': 8, u'MDIMA': 8, u'KWG': 32, u'KWI': 2, u'NDIMC': 16, u'NDIMB': 16, u'PRECISION': 32, u'VWM': 4, u'VWN': 4, u'NWG': 64, u'MWG': 32, u'STRN': 0, u'STRM': 0, u'SB': 1, u'SA': 1}\n",
      "{u'MDIMC': 8, u'MDIMA': 8, u'KWG': 32, u'KWI': 2, u'NDIMC': 32, u'NDIMB': 32, u'PRECISION': 32, u'VWM': 4, u'VWN': 2, u'NWG': 64, u'MWG': 32, u'STRN': 0, u'STRM': 0, u'SB': 1, u'SA': 1}\n",
      "{u'MDIMC': 8, u'MDIMA': 8, u'KWG': 32, u'KWI': 2, u'NDIMC': 32, u'NDIMB': 32, u'PRECISION': 32, u'VWM': 4, u'VWN': 2, u'NWG': 64, u'MWG': 32, u'STRN': 0, u'STRM': 0, u'SB': 1, u'SA': 1}\n",
      "{u'MDIMC': 8, u'MDIMA': 16, u'KWG': 16, u'KWI': 2, u'NDIMC': 8, u'NDIMB': 8, u'PRECISION': 32, u'VWM': 2, u'VWN': 4, u'NWG': 32, u'MWG': 32, u'STRN': 1, u'STRM': 1, u'SB': 0, u'SA': 0}\n",
      "{u'MDIMC': 16, u'MDIMA': 16, u'KWG': 16, u'KWI': 2, u'NDIMC': 16, u'NDIMB': 32, u'PRECISION': 32, u'VWM': 2, u'VWN': 1, u'NWG': 128, u'MWG': 32, u'STRN': 1, u'STRM': 1, u'SB': 1, u'SA': 1}\n",
      "{u'MDIMC': 8, u'MDIMA': 16, u'KWG': 16, u'KWI': 2, u'NDIMC': 8, u'NDIMB': 8, u'PRECISION': 32, u'VWM': 4, u'VWN': 1, u'NWG': 32, u'MWG': 64, u'STRN': 0, u'STRM': 1, u'SB': 0, u'SA': 0}\n"
     ]
    }
   ],
   "source": [
    "best_configs = df_kernel0.loc[df_kernel0.groupby(level=df_kernel0.index.names[:-1])['GFLOPS'].idxmax()]['config']\n",
    "idx = df_kernel0.groupby(level=df_kernel0.index.names[:-1])['GFLOPS'].idxmax()\n",
    "my = df_kernel0.loc[idx]['config']\n",
    "for i in my:\n",
    "    print i"
   ]
  },
  {
   "cell_type": "markdown",
   "metadata": {
    "deletable": true,
    "editable": true
   },
   "source": [
    "#### Plot a violin graph"
   ]
  },
  {
   "cell_type": "code",
   "execution_count": 18,
   "metadata": {
    "collapsed": false,
    "deletable": true,
    "editable": true
   },
   "outputs": [
    {
     "data": {
      "text/plain": [
       "<matplotlib.collections.LineCollection at 0x7fe374d43350>"
      ]
     },
     "execution_count": 18,
     "metadata": {},
     "output_type": "execute_result"
    },
    {
     "data": {
      "image/png": "[encoded data removed]",
      "text/plain": [
       "<matplotlib.figure.Figure at 0x7fe3512ef150>"
      ]
     },
     "metadata": {},
     "output_type": "display_data"
    }
   ],
   "source": [
    "plt.figure(figsize=(12, 10))\n",
    "sns.set_style('whitegrid'); sns.set_palette('Set1')\n",
    "ax = sns.violinplot(data=df_kernel0.reset_index(), x='GFLOPS', y='args_id',\n",
    "                    split=True, hue='strategy', hue_order=['random', 'exhaustive'])\n",
    "ax.set_xticks(range(0, int(max_GFLOPS), 1))\n",
    "ax.set_xlim([0, max_GFLOPS])\n",
    "# Draw a dotted purple line from top to bottom at the default value (TODO).\n",
    "ax.vlines(linestyles='dotted', colors='purple', x=124, ymin=ax.get_ylim()[0], ymax=ax.get_ylim()[1])"
   ]
  },
  {
   "cell_type": "code",
   "execution_count": null,
   "metadata": {
    "collapsed": true
   },
   "outputs": [],
   "source": []
  }
 ],
 "metadata": {
  "kernelspec": {
   "display_name": "Python 2",
   "language": "python",
   "name": "python2"
  },
  "language_info": {
   "codemirror_mode": {
    "name": "ipython",
    "version": 2
   },
   "file_extension": ".py",
   "mimetype": "text/x-python",
   "name": "python",
   "nbconvert_exporter": "python",
   "pygments_lexer": "ipython2",
   "version": "2.7.12"
  }
 },
 "nbformat": 4,
 "nbformat_minor": 0
}
